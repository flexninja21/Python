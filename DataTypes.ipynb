{
 "cells": [
  {
   "cell_type": "code",
   "execution_count": null,
   "metadata": {},
   "outputs": [],
   "source": [
    "#Question 1\n",
    "numb = int(input(\"please enter a random number: \"))\n",
    "\n",
    "if (numb%2)==0:\n",
    "    print(str(numb) + \" is an even number\")\n",
    "else:\n",
    "    print(str(numb) + \" is an odd number\")\n",
    "    "
   ]
  },
  {
   "cell_type": "code",
   "execution_count": null,
   "metadata": {},
   "outputs": [],
   "source": [
    "#Question 2\n",
    "name =\"Edem Kofi Afflu\"\n",
    "age = 22\n",
    "print(age)\n",
    "print(name)\n",
    "print(str(age) + \"\\n\" + name)\n",
    "print('{}\\n{}'.format(name, age))"
   ]
  },
  {
   "cell_type": "code",
   "execution_count": null,
   "metadata": {},
   "outputs": [],
   "source": [
    "#Question 3\n",
    "list1 =[1,4,9,16,25]\n",
    "for i in range(1,len(list1)):\n",
    "    print(list1[i])\n"
   ]
  },
  {
   "cell_type": "code",
   "execution_count": null,
   "metadata": {},
   "outputs": [],
   "source": [
    "#Question 4\n",
    "age = int(input(\"please enter your age: \"))\n",
    "years=[]\n",
    "i=0\n",
    "while i < age:\n",
    "    i= i+1\n",
    "    years.append(i)\n",
    "year = sum(years)\n",
    "print(str(year) + \" years\")\n",
    "month = year*12\n",
    "print(str(month)+ \" months\")\n",
    "days = int(((month*30) + (month*31))/2)\n",
    "print(str(days) + \" Days\")\n",
    "hours = days*24\n",
    "print(str(hours)+ \" hours\")\n",
    "\n",
    "\n",
    "\n"
   ]
  },
  {
   "cell_type": "code",
   "execution_count": null,
   "metadata": {},
   "outputs": [],
   "source": [
    "#Question 5\n",
    "a = 5 #int\n",
    "b = 5000*50000000 #int\n",
    "c = 'j' # string\n",
    "d = 1j # complex number\n",
    "e = (1,) # tuple\n",
    "f = [1] # list\n",
    "g = None # NoneType--- used as a null\n",
    "print(type(a))\n",
    "print(type(b))\n",
    "print(type(c))\n",
    "print(type(d))\n",
    "print(type(e))\n",
    "print(type(f))\n",
    "print(type(g))\n"
   ]
  },
  {
   "cell_type": "code",
   "execution_count": null,
   "metadata": {},
   "outputs": [],
   "source": [
    "#Question 6\n",
    "# floating points and binary bits 32 bit and not precise\n",
    "# decimal is more accuratea and avoides rounding errors"
   ]
  },
  {
   "cell_type": "code",
   "execution_count": null,
   "metadata": {},
   "outputs": [],
   "source": [
    "#Question 7\n",
    "fib = []\n",
    "i = 0\n",
    "j = 1\n",
    "x=0\n",
    "while x < 20:\n",
    "    fib.append(i)\n",
    "    end = i +j\n",
    "    #fib.append(end)\n",
    "    i = j\n",
    "    j = end\n",
    "    x+=1\n",
    "print(fib)\n",
    "    \n",
    "    \n",
    "    \n"
   ]
  },
  {
   "cell_type": "code",
   "execution_count": null,
   "metadata": {},
   "outputs": [],
   "source": [
    "#Question 8 might be wrong imp\n",
    "stuff = \"forex bureau\"\n",
    "print(stuff[-1])\n",
    "for i in range(1,len(stuff)):\n",
    "    print(stuff[i] + \":\")\n",
    "    \n",
    "\n",
    "print(stuff)"
   ]
  },
  {
   "cell_type": "code",
   "execution_count": null,
   "metadata": {},
   "outputs": [],
   "source": [
    "#Question 9\n",
    "# need to optimize it more later\n",
    "list = []\n",
    "iterator = 0\n",
    "while iterator < 10:\n",
    "    numb = int(input(\" Please enter a number between 1 and 8: \"))\n",
    "    if ((numb >0) and (numb < 9)):\n",
    "        list.append(numb)\n",
    "        iterator +=1\n",
    "    else:\n",
    "        print(\" you have entered a number that is out of bounds\")\n",
    "#print(list)\n",
    "print(list.count(5))\n",
    "    "
   ]
  },
  {
   "cell_type": "code",
   "execution_count": null,
   "metadata": {},
   "outputs": [],
   "source": [
    "#Question 10????\n",
    "list1 = [1,4,9,16,25]\n",
    "odd = filter(lambda x: x%2,list1 )\n",
    "list1(odd)\n",
    "print(odd)"
   ]
  },
  {
   "cell_type": "code",
   "execution_count": null,
   "metadata": {},
   "outputs": [],
   "source": []
  },
  {
   "cell_type": "code",
   "execution_count": null,
   "metadata": {},
   "outputs": [],
   "source": []
  },
  {
   "cell_type": "code",
   "execution_count": null,
   "metadata": {},
   "outputs": [],
   "source": []
  },
  {
   "cell_type": "code",
   "execution_count": null,
   "metadata": {},
   "outputs": [],
   "source": []
  },
  {
   "cell_type": "code",
   "execution_count": null,
   "metadata": {},
   "outputs": [],
   "source": []
  },
  {
   "cell_type": "code",
   "execution_count": null,
   "metadata": {},
   "outputs": [],
   "source": []
  }
 ],
 "metadata": {
  "kernelspec": {
   "display_name": "Python 3",
   "language": "python",
   "name": "python3"
  },
  "language_info": {
   "codemirror_mode": {
    "name": "ipython",
    "version": 3
   },
   "file_extension": ".py",
   "mimetype": "text/x-python",
   "name": "python",
   "nbconvert_exporter": "python",
   "pygments_lexer": "ipython3",
   "version": "3.7.6"
  }
 },
 "nbformat": 4,
 "nbformat_minor": 4
}
