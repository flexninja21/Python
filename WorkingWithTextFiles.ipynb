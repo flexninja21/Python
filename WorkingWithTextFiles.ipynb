{
 "cells": [
  {
   "cell_type": "code",
   "execution_count": 19,
   "id": "4928b0ef",
   "metadata": {},
   "outputs": [
    {
     "name": "stdout",
     "output_type": "stream",
     "text": [
      "please input text herethe\n",
      "the \n",
      "please input text herecae\n",
      "the cae \n",
      "please input text heredidnt\n",
      "the cae didnt \n",
      "please input text heredo anuthing \n",
      "the cae didnt do anuthing  \n",
      "please input text herefor me \n",
      "the cae didnt do anuthing  for me  \n",
      "please input text hereend\n",
      "the cae didnt do anuthing  for me  end \n"
     ]
    }
   ],
   "source": [
    "#Question one \n",
    "f = open(\"asdf.txt\",\"w+\")\n",
    "f.close()\n",
    "inpu = None\n",
    "while inpu != \"end\":\n",
    "    inpu = input(\"please input text here\")\n",
    "    f=open(\"asdf.txt\",\"a\")\n",
    "    f.write(inpu + \" \")\n",
    "    f.close()\n",
    "    f = open(\"asdf.txt\", \"r\")\n",
    "    history = f.read()\n",
    "    print(history)\n",
    "    \n",
    "    \n",
    "    "
   ]
  },
  {
   "cell_type": "code",
   "execution_count": null,
   "id": "b5ca68af",
   "metadata": {},
   "outputs": [],
   "source": []
  }
 ],
 "metadata": {
  "kernelspec": {
   "display_name": "Python 3",
   "language": "python",
   "name": "python3"
  },
  "language_info": {
   "codemirror_mode": {
    "name": "ipython",
    "version": 3
   },
   "file_extension": ".py",
   "mimetype": "text/x-python",
   "name": "python",
   "nbconvert_exporter": "python",
   "pygments_lexer": "ipython3",
   "version": "3.8.8"
  }
 },
 "nbformat": 4,
 "nbformat_minor": 5
}
