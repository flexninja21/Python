{
 "cells": [
  {
   "cell_type": "code",
   "execution_count": null,
   "id": "f27ee5af",
   "metadata": {},
   "outputs": [],
   "source": [
    "#question one\n",
    "x=\"hello \"\n",
    "y=\" world\"\n",
    "x+y"
   ]
  },
  {
   "cell_type": "code",
   "execution_count": null,
   "id": "1b6d9445",
   "metadata": {},
   "outputs": [],
   "source": [
    "#question two\n",
    "num = int(input(\"please enter a random number: \"))\n",
    "\n",
    "if (num%2)==0:\n",
    "    print(num, 'is even')\n",
    "else:\n",
    "    print(num, 'is odd')\n"
   ]
  },
  {
   "cell_type": "code",
   "execution_count": null,
   "id": "25c0339b",
   "metadata": {},
   "outputs": [],
   "source": [
    "#Question three\n",
    "name =\"Edem Afflu \"\n",
    "age = 22\n",
    "print(name)\n",
    "print(age)\n",
    "addition = name + \" \"+ str(age)\n",
    "print(addition)\n",
    "print(\"{}{} \" .format(name, age))"
   ]
  },
  {
   "cell_type": "code",
   "execution_count": null,
   "id": "9d3ed21e",
   "metadata": {},
   "outputs": [],
   "source": [
    "#Question four\n",
    "import random\n",
    "ranum = int(input(\"Guess a random number between   1 and 8 NB: you have three tries : \"))\n",
    "\n",
    "if (ranum == random.randint(1,8)):\n",
    "    print(\"you guessed the right number!\")\n",
    "else:\n",
    "    print(\"SORRY!!! you guesed the wrong number\")\n"
   ]
  },
  {
   "cell_type": "code",
   "execution_count": null,
   "id": "8b1ac99a",
   "metadata": {},
   "outputs": [],
   "source": [
    "#Question five\n",
    "list1 =[1,4,9,16,25]\n",
    "for i in range(1,len(list1)):\n",
    "    if((list1[i]%2)==0):\n",
    "        print(list1[i])"
   ]
  },
  {
   "cell_type": "code",
   "execution_count": null,
   "id": "d82be170",
   "metadata": {},
   "outputs": [],
   "source": [
    "#Question five\n",
    "age = int(input(\"please enter your age: \"))\n",
    "years=[]\n",
    "i=0\n",
    "while i < age:\n",
    "    i= i+1\n",
    "    years.append(i)\n",
    "year = sum(years)\n",
    "print(str(year) + \" years\")\n",
    "month = year*12\n",
    "print(str(month)+ \" months\")\n",
    "days = int(((month*30) + (month*31))/2)\n",
    "print(str(days) + \" Days\")\n",
    "hours = days*24\n",
    "print(str(hours)+ \" hours\")"
   ]
  }
 ],
 "metadata": {
  "kernelspec": {
   "display_name": "Python 3",
   "language": "python",
   "name": "python3"
  },
  "language_info": {
   "codemirror_mode": {
    "name": "ipython",
    "version": 3
   },
   "file_extension": ".py",
   "mimetype": "text/x-python",
   "name": "python",
   "nbconvert_exporter": "python",
   "pygments_lexer": "ipython3",
   "version": "3.8.8"
  }
 },
 "nbformat": 4,
 "nbformat_minor": 5
}
