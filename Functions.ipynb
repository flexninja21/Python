{
 "cells": [
  {
   "cell_type": "code",
   "execution_count": null,
   "id": "45cd4e36",
   "metadata": {},
   "outputs": [],
   "source": [
    "#Question one\n",
    "def inc(x):\n",
    "    x=x+1\n",
    "    print(x)\n",
    "inc(10)\n",
    "\n",
    "def f1(list1):\n",
    "    list1.append(\"!!!\")\n",
    "    \n",
    "l=['a','b']\n",
    "\n",
    "f1(l)\n",
    "print(l)"
   ]
  },
  {
   "cell_type": "code",
   "execution_count": null,
   "id": "5bd388f4",
   "metadata": {},
   "outputs": [],
   "source": [
    "#Question two\n",
    "la = [1,2,3,4,5]\n",
    "def mo(list2):\n",
    "    print(list2)\n",
    "    a = list2[-1]\n",
    "    list2[-1] = list2[0]\n",
    "    list2[0] = a\n",
    "    print(list2)\n",
    "\n",
    "mo(la)\n",
    "    \n",
    "    "
   ]
  },
  {
   "cell_type": "code",
   "execution_count": null,
   "id": "57613cc7",
   "metadata": {},
   "outputs": [],
   "source": [
    "#Question three\n",
    "th = [1,2,3,4,5,6]\n",
    "new =[]\n",
    "ind=1\n",
    "def ma(list3,ind):\n",
    "    while ind !=0:\n",
    "        ind = int(input(\" enter indices\"))\n",
    "        if ((ind < len(list3)) and (ind >=0)):\n",
    "            print(th[ind])\n",
    "            new.append(th[ind])\n",
    "            print(tuple(new))\n",
    "            continue\n",
    "        else:\n",
    "            print(\"you entered a index out of bounds\")\n",
    "        return tuple(new)\n",
    "        \n",
    "\n",
    "ma(th,ind)\n",
    "        \n",
    "\n",
    "        \n",
    "    \n",
    "    \n",
    "    "
   ]
  },
  {
   "cell_type": "code",
   "execution_count": null,
   "id": "9cba3969",
   "metadata": {},
   "outputs": [],
   "source": [
    "#Question four\n",
    "def test(**kwargs):\n",
    "    result = {}\n",
    "    for key, value in kwargs.items():\n",
    "        result[key] = value\n",
    "    return result\n",
    "      \n",
    "    \n",
    "test(name=\"Flexninja21\", age=55)\n",
    "    "
   ]
  },
  {
   "cell_type": "code",
   "execution_count": null,
   "id": "c3bcb4ca",
   "metadata": {},
   "outputs": [],
   "source": [
    "#Question five"
   ]
  },
  {
   "cell_type": "code",
   "execution_count": null,
   "id": "a4744068",
   "metadata": {},
   "outputs": [],
   "source": [
    "#Question six\n"
   ]
  }
 ],
 "metadata": {
  "kernelspec": {
   "display_name": "Python 3",
   "language": "python",
   "name": "python3"
  },
  "language_info": {
   "codemirror_mode": {
    "name": "ipython",
    "version": 3
   },
   "file_extension": ".py",
   "mimetype": "text/x-python",
   "name": "python",
   "nbconvert_exporter": "python",
   "pygments_lexer": "ipython3",
   "version": "3.8.8"
  }
 },
 "nbformat": 4,
 "nbformat_minor": 5
}
