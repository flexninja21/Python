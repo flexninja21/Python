{
 "cells": [
  {
   "cell_type": "code",
   "execution_count": null,
   "id": "7a458495",
   "metadata": {},
   "outputs": [],
   "source": [
    "#Question one\n",
    "def inc(x):\n",
    "    x=x+1\n",
    "    print(x)\n",
    "inc(10)\n",
    "\n",
    "def f1(list1):\n",
    "    list1.append(\"!!!\")\n",
    "    \n",
    "l=['a','b']\n",
    "\n",
    "f1(l)\n",
    "print(l)"
   ]
  },
  {
   "cell_type": "code",
   "execution_count": null,
   "id": "4a4f0db9",
   "metadata": {},
   "outputs": [],
   "source": [
    "#Question two\n",
    "la = [1,2,3,4,5]\n",
    "def mo(list2):\n",
    "    print(list2)\n",
    "    a = list2[-1]\n",
    "    list2[-1] = list2[0]\n",
    "    list2[0] = a\n",
    "    print(list2)\n",
    "\n",
    "mo(la)\n",
    "    \n",
    "    "
   ]
  },
  {
   "cell_type": "code",
   "execution_count": null,
   "id": "42fca944",
   "metadata": {},
   "outputs": [],
   "source": [
    "#Question three\n",
    "th = [1,2,3,4,5,6]\n",
    "new =[]\n",
    "ind=1\n",
    "def ma(list3,ind):\n",
    "    while ind !=0:\n",
    "        ind = int(input(\" enter indices\"))\n",
    "        if ((ind < len(list3)) and (ind >=0)):\n",
    "            print(th[ind])\n",
    "            new.append(th[ind])\n",
    "            print(tuple(new))\n",
    "            continue\n",
    "        else:\n",
    "            print(\"you entered a index out of bounds\")\n",
    "        return tuple(new)\n",
    "        \n",
    "\n",
    "ma(th,ind)\n",
    "        \n",
    "\n",
    "        \n",
    "    \n",
    "    \n",
    "    "
   ]
  },
  {
   "cell_type": "code",
   "execution_count": null,
   "id": "730ee363",
   "metadata": {},
   "outputs": [],
   "source": [
    "#Question four\n",
    "def test(**kwargs):\n",
    "    result = {}\n",
    "    for key, value in kwargs.items():\n",
    "        result[key] = value\n",
    "    return result\n",
    "      \n",
    "    \n",
    "test(name=\"Flexninja21\", age=55)\n",
    "    "
   ]
  },
  {
   "cell_type": "code",
   "execution_count": 18,
   "id": "253c82bd",
   "metadata": {},
   "outputs": [
    {
     "name": "stdout",
     "output_type": "stream",
     "text": [
      "9\n"
     ]
    }
   ],
   "source": [
    "#Question five super lazy soln?\n",
    "def ard(*args):\n",
    "    a = sum(args[1]) \n",
    "    b = args[0]\n",
    "    print(a+b)\n",
    "\n",
    "ard(0,(1,3,5))\n",
    "    \n",
    "    \n",
    "\n"
   ]
  },
  {
   "cell_type": "code",
   "execution_count": 22,
   "id": "43bf2c8a",
   "metadata": {},
   "outputs": [
    {
     "data": {
      "text/plain": [
       "[0,\n",
       " 1,\n",
       " 1,\n",
       " 2,\n",
       " 3,\n",
       " 5,\n",
       " 8,\n",
       " 13,\n",
       " 21,\n",
       " 34,\n",
       " 55,\n",
       " 89,\n",
       " 144,\n",
       " 233,\n",
       " 377,\n",
       " 610,\n",
       " 987,\n",
       " 1597,\n",
       " 2584,\n",
       " 4181,\n",
       " 6765,\n",
       " 10946,\n",
       " 17711,\n",
       " 28657,\n",
       " 46368,\n",
       " 75025,\n",
       " 121393,\n",
       " 196418,\n",
       " 317811,\n",
       " 514229,\n",
       " 832040,\n",
       " 1346269,\n",
       " 2178309,\n",
       " 3524578,\n",
       " 5702887,\n",
       " 9227465,\n",
       " 14930352,\n",
       " 24157817,\n",
       " 39088169,\n",
       " 63245986,\n",
       " 102334155,\n",
       " 165580141,\n",
       " 267914296,\n",
       " 433494437,\n",
       " 701408733,\n",
       " 1134903170,\n",
       " 1836311903,\n",
       " 2971215073,\n",
       " 4807526976,\n",
       " 7778742049]"
      ]
     },
     "execution_count": 22,
     "metadata": {},
     "output_type": "execute_result"
    }
   ],
   "source": [
    "#Question six\n",
    "def fib(q):\n",
    "    \n",
    "    fibo = []\n",
    "    i = 0\n",
    "    j = 1\n",
    "    x=0\n",
    "    while x < q:\n",
    "        fibo.append(i)\n",
    "        end = i +j\n",
    "        #fib.append(end)\n",
    "        i = j\n",
    "        j = end\n",
    "        x+=1\n",
    "    return fibo\n",
    "\n",
    "fib(50)\n"
   ]
  }
 ],
 "metadata": {
  "kernelspec": {
   "display_name": "Python 3",
   "language": "python",
   "name": "python3"
  },
  "language_info": {
   "codemirror_mode": {
    "name": "ipython",
    "version": 3
   },
   "file_extension": ".py",
   "mimetype": "text/x-python",
   "name": "python",
   "nbconvert_exporter": "python",
   "pygments_lexer": "ipython3",
   "version": "3.8.8"
  }
 },
 "nbformat": 4,
 "nbformat_minor": 5
}
