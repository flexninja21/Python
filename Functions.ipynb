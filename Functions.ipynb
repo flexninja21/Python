{
 "cells": [
  {
   "cell_type": "code",
   "execution_count": null,
   "id": "dcfe497c",
   "metadata": {},
   "outputs": [],
   "source": [
    "#Question one\n",
    "def inc(x):\n",
    "    x=x+1\n",
    "    print(x)\n",
    "inc(10)\n",
    "\n",
    "def f1(list1):\n",
    "    list1.append(\"!!!\")\n",
    "    \n",
    "l=['a','b']\n",
    "\n",
    "f1(l)\n",
    "print(l)"
   ]
  },
  {
   "cell_type": "code",
   "execution_count": null,
   "id": "8f20bc1b",
   "metadata": {},
   "outputs": [],
   "source": [
    "#Question two\n",
    "la = [1,2,3,4,5]\n",
    "def mo(list2):\n",
    "    print(list2)\n",
    "    a = list2[-1]\n",
    "    list2[-1] = list2[0]\n",
    "    list2[0] = a\n",
    "    print(list2)\n",
    "\n",
    "mo(la)\n",
    "    \n",
    "    "
   ]
  },
  {
   "cell_type": "code",
   "execution_count": null,
   "id": "e19dcaf6",
   "metadata": {},
   "outputs": [],
   "source": [
    "#Question three\n",
    "th = [1,2,3,4,5,6]\n",
    "new =[]\n",
    "ind=1\n",
    "def ma(list3,ind):\n",
    "    while ind !=0:\n",
    "        ind = int(input(\" enter indices\"))\n",
    "        if ((ind < len(list3)) and (ind >=0)):\n",
    "            print(th[ind])\n",
    "            new.append(th[ind])\n",
    "            print(tuple(new))\n",
    "            continue\n",
    "        else:\n",
    "            print(\"you entered a index out of bounds\")\n",
    "        return tuple(new)\n",
    "        \n",
    "\n",
    "ma(th,ind)\n",
    "        \n",
    "\n",
    "        \n",
    "    \n",
    "    \n",
    "    "
   ]
  },
  {
   "cell_type": "code",
   "execution_count": null,
   "id": "f90755e3",
   "metadata": {},
   "outputs": [],
   "source": [
    "#Question four\n",
    "def test(**kwargs):\n",
    "    result = {}\n",
    "    for key, value in kwargs.items():\n",
    "        result[key] = value\n",
    "    return result\n",
    "      \n",
    "    \n",
    "test(name=\"Flexninja21\", age=55)\n",
    "    "
   ]
  },
  {
   "cell_type": "code",
   "execution_count": 17,
   "id": "2e6b9346",
   "metadata": {},
   "outputs": [
    {
     "name": "stdout",
     "output_type": "stream",
     "text": [
      "11\n"
     ]
    }
   ],
   "source": [
    "#Question five super lazy soln?\n",
    "def ard(*args):\n",
    "    a = sum(args[1]) \n",
    "    b = args[0]\n",
    "    print(a+b)\n",
    "\n",
    "ard(2,(2,3,4))\n",
    "    \n",
    "    \n",
    "\n"
   ]
  },
  {
   "cell_type": "code",
   "execution_count": null,
   "id": "94491b57",
   "metadata": {},
   "outputs": [],
   "source": []
  },
  {
   "cell_type": "code",
   "execution_count": null,
   "id": "6607547d",
   "metadata": {},
   "outputs": [],
   "source": []
  },
  {
   "cell_type": "code",
   "execution_count": null,
   "id": "5f0706ca",
   "metadata": {},
   "outputs": [],
   "source": []
  },
  {
   "cell_type": "code",
   "execution_count": null,
   "id": "2e5d5b9c",
   "metadata": {},
   "outputs": [],
   "source": []
  },
  {
   "cell_type": "code",
   "execution_count": null,
   "id": "a1751bc5",
   "metadata": {},
   "outputs": [],
   "source": []
  },
  {
   "cell_type": "code",
   "execution_count": null,
   "id": "f6a7c06b",
   "metadata": {},
   "outputs": [],
   "source": []
  },
  {
   "cell_type": "code",
   "execution_count": null,
   "id": "0e2cab02",
   "metadata": {},
   "outputs": [],
   "source": []
  },
  {
   "cell_type": "code",
   "execution_count": null,
   "id": "650a2844",
   "metadata": {},
   "outputs": [],
   "source": []
  },
  {
   "cell_type": "code",
   "execution_count": null,
   "id": "8153509b",
   "metadata": {},
   "outputs": [],
   "source": []
  },
  {
   "cell_type": "code",
   "execution_count": null,
   "id": "87aff1fe",
   "metadata": {},
   "outputs": [],
   "source": []
  },
  {
   "cell_type": "code",
   "execution_count": null,
   "id": "3088d44b",
   "metadata": {},
   "outputs": [],
   "source": []
  },
  {
   "cell_type": "code",
   "execution_count": 6,
   "id": "d3e8c7cc",
   "metadata": {},
   "outputs": [
    {
     "name": "stdout",
     "output_type": "stream",
     "text": [
      "<class 'tuple'>\n",
      "<class 'int'>\n",
      "<class 'int'>\n"
     ]
    }
   ],
   "source": [
    "a = (2,3,4,5,6)\n",
    "b = 5\n",
    "c = sum(a,b)\n",
    "print (type(a))\n",
    "print (type(b))\n",
    "print(type(c))"
   ]
  },
  {
   "cell_type": "code",
   "execution_count": null,
   "id": "f3f11b6e",
   "metadata": {},
   "outputs": [],
   "source": []
  },
  {
   "cell_type": "code",
   "execution_count": null,
   "id": "926763ff",
   "metadata": {},
   "outputs": [],
   "source": []
  },
  {
   "cell_type": "code",
   "execution_count": null,
   "id": "af5ce304",
   "metadata": {},
   "outputs": [],
   "source": []
  },
  {
   "cell_type": "code",
   "execution_count": null,
   "id": "b26a78b7",
   "metadata": {},
   "outputs": [],
   "source": []
  },
  {
   "cell_type": "code",
   "execution_count": null,
   "id": "6553ddee",
   "metadata": {},
   "outputs": [],
   "source": []
  },
  {
   "cell_type": "code",
   "execution_count": null,
   "id": "4460a67e",
   "metadata": {},
   "outputs": [],
   "source": [
    "#Question six\n"
   ]
  }
 ],
 "metadata": {
  "kernelspec": {
   "display_name": "Python 3",
   "language": "python",
   "name": "python3"
  },
  "language_info": {
   "codemirror_mode": {
    "name": "ipython",
    "version": 3
   },
   "file_extension": ".py",
   "mimetype": "text/x-python",
   "name": "python",
   "nbconvert_exporter": "python",
   "pygments_lexer": "ipython3",
   "version": "3.8.8"
  }
 },
 "nbformat": 4,
 "nbformat_minor": 5
}
